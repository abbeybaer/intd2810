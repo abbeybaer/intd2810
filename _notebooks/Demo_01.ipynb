{
  "cells": [
    {
      "cell_type": "markdown",
      "source": [
        "# Demo 1: Basics of Notebooks and Python Review!\n",
        "\n",
        "In this demo we will get started with Google CoLab and Python -- the basic ingreediants we'll start with for understanding AI and and programming!\n",
        "\n"
      ],
      "metadata": {
        "id": "p7E1oXxBxey8"
      }
    },
    {
      "cell_type": "markdown",
      "metadata": {
        "id": "asPn9bMr3UJ7"
      },
      "source": [
        "Let's start today by going over what notebooks are! In short they are an easy way to code in Python that let's you see the outputs very quickly. The most important command is Shift+Enter which runs the cell you're currently highlighting!"
      ]
    },
    {
      "cell_type": "markdown",
      "metadata": {
        "id": "5i1-Td6O3UJ9"
      },
      "source": [
        "# Welcome to Notebooks!\n",
        "\n",
        "There are a lot of useful keyboard shortcuts you can use -- Check out the Help >> Keyboard Shortcuts menu.."
      ]
    },
    {
      "cell_type": "markdown",
      "metadata": {
        "id": "YLkAV9HE3UJ_"
      },
      "source": [
        "We can designate cells as markdown -- which lets us do some cools stuff...  A few quick and useful things.\n",
        "\n",
        "[Note: Examples Taken from Adam-p Markdown Cheat Sheet](https://github.com/adam-p/markdown-here/wiki/Markdown-Cheatsheet)\n",
        "\n",
        "First let's look at some headings..\n",
        "\n",
        "# H1\n",
        "## H2\n",
        "### H3\n",
        "#### H4\n",
        "##### H5\n",
        "###### H6\n",
        "\n",
        "---\n",
        "\n",
        "We can also section break things...\n"
      ]
    },
    {
      "cell_type": "markdown",
      "metadata": {
        "id": "7RE9tPbG3UKA"
      },
      "source": [
        "## Next is how to add emphsis to some text..\n",
        "\n",
        "Emphasis, aka italics, with *asterisks* or _underscores_.\n",
        "\n",
        "Strong emphasis, aka bold, with **asterisks** or __underscores__.\n",
        "\n",
        "Combined emphasis with **asterisks and _underscores_**.\n",
        "\n",
        "Strikethrough uses two tildes. ~~Scratch this.~~"
      ]
    },
    {
      "cell_type": "markdown",
      "metadata": {
        "id": "wGepUMQn3UKB"
      },
      "source": [
        "## Let's also see how to do lists and alignment...\n",
        "\n",
        "1. First ordered list item\n",
        "2. Another item\n",
        " * Unordered sub-list.\n",
        "1. Actual numbers don't matter, just that it's a number\n",
        " 1. Ordered sub-list\n",
        "4. And another item.\n",
        "\n",
        "   You can have properly indented paragraphs within list items. Notice the blank line above, and the leading spaces (you need three spaces).\n",
        "\n",
        "\n",
        "* Unordered list can use asterisks\n",
        "- Or minuses\n",
        "+ Or pluses\n",
        "* add another element\n",
        "* add another **fancy element**"
      ]
    },
    {
      "cell_type": "markdown",
      "metadata": {
        "id": "FasOWOpV3UKD"
      },
      "source": [
        "## Links are really important ... code blocks...\n",
        "\n",
        "[I'm an inline-style link](https://www.google.com)\n",
        "\n",
        "URLs and URLs in angle brackets will automatically get turned into links.\n",
        "http://www.example.com or <http://www.example.com> and sometimes\n",
        "example.com (but not on Github, for example).\n",
        "\n",
        "Inline `code has backticks` around it.\n",
        "\n",
        "```\n",
        "You can also do blocks of code.\n",
        "```\n",
        "\n",
        "\n",
        "You can also tell markdown what type of code you are using...\n",
        "\n",
        "```javascript\n",
        "var s = \"JavaScript syntax highlighting\";\n",
        "alert(s);\n",
        "```\n",
        "\n",
        "```python\n",
        "s = \"Python syntax highlighting\"\n",
        "print s\n",
        "```\n",
        "\n",
        "```\n",
        "No language indicated, so no syntax highlighting.\n",
        "But let's throw in a <b>tag</b>.\n",
        "```\n"
      ]
    },
    {
      "cell_type": "markdown",
      "metadata": {
        "id": "pksrnses3UKE"
      },
      "source": [
        "## Finally, tables are a bit cumbersome...\n",
        "\n",
        "Markdown | Less | Pretty\n",
        "--- | --- | ---\n",
        "*Still* | `renders` | **nicely**\n",
        "1 | 2 | 3\n",
        "\n",
        "---"
      ]
    },
    {
      "cell_type": "markdown",
      "metadata": {
        "id": "excZ4zQB3UKG"
      },
      "source": [
        "## A Little About Directories, Git, Commands, and CoLab\n",
        "\n",
        "\n",
        "What Colab does is create a [virtual machine](https://en.wikipedia.org/wiki/Virtual_machine), which is like a fresh install of an operating system made just for you.\n",
        "\n",
        "This means that in addition to running Python code in this notebook, you can also interact with the command-line as if you were using a terminal to navigate a computer. If you have never used the command-line before, it is worth reading through [this tutorial](https://computers.tutsplus.com/tutorials/navigating-the-terminal-a-gentle-introduction--mac-3855).\n",
        "\n",
        "Notebooks also allow you to run shell commands by preceding the command with a `!`.\n",
        "\n",
        "Note that all this is a bit extra for INTD 2810, you don't need to get into all the nitty gritty details here."
      ]
    },
    {
      "cell_type": "code",
      "execution_count": null,
      "metadata": {
        "id": "vHvxEtFQ3UKG",
        "colab": {
          "base_uri": "https://localhost:8080/"
        },
        "outputId": "4b76f1c8-3277-44b1-9202-9810f39dcf55"
      },
      "outputs": [
        {
          "output_type": "stream",
          "name": "stdout",
          "text": [
            "/content\n"
          ]
        }
      ],
      "source": [
        "!pwd"
      ]
    },
    {
      "cell_type": "code",
      "execution_count": null,
      "metadata": {
        "id": "VN9G41vQ3UKH",
        "colab": {
          "base_uri": "https://localhost:8080/"
        },
        "outputId": "82349167-14e4-498c-bff7-61e422aae671"
      },
      "outputs": [
        {
          "output_type": "stream",
          "name": "stdout",
          "text": [
            "sample_data\n"
          ]
        }
      ],
      "source": [
        "!ls"
      ]
    },
    {
      "cell_type": "markdown",
      "source": [
        "## Working on assignments\n",
        "\n",
        "To ensure you have everything configured properly for each assignment, you should do the following:\n",
        "\n",
        "- Click the corresponding `Open in Colab` link in the `_labs` or `_demos` folder.\n",
        "- Immediately click `File->Save` (Command/Ctrl S), then \"Save a Copy in Drive\"\n",
        "- This will create a new copy in the `Colab Notebooks` folder of your personal Google Drive for whichever Google account you are signed into at the time.\n",
        "- Save the file regularly as you complete the assignment.\n",
        "- When you're ready to submit your work:\n",
        "  + Go to File->Download .ipynb\n",
        "  + Upload the .ipynb file to the appropriate assignment in [Canvas](https://tulane.instructure.com/)"
      ],
      "metadata": {
        "id": "pGHN9t1mT9wb"
      }
    },
    {
      "cell_type": "markdown",
      "source": [
        "## Non-persistence of Colab Virtual Machines\n",
        "\n",
        "An important thing to note about Colab is that files you create during the session will not persist once the runtime shuts down. Google creates these temporary virtual environments to host your notebook, but it shuts them down so the resource can be reallocated to other notebooks. The runtime will shutdown automatically if not used for a few hours, so be careful about files that are created during the session.\n",
        "\n",
        "This means that the `cmps3160` folder that we just created will disappear if we restart the session. You can test this by clicking on `Runtime->Disconnect and delete Runtime`. If you do so, you'll notice `cmps3160` is gone:"
      ],
      "metadata": {
        "id": "Vi_fYio9VECF"
      }
    },
    {
      "cell_type": "markdown",
      "source": [
        "## Mounting Your Google Drive (Optional!)\n",
        "\n",
        "On some occasions, you may want to create data that will persist. For example, when working on your course project, you don't want to re-collect any data you need for your analysis.\n",
        "\n",
        "One way to make this data persist is to write directly to your Google Drive, rather than to this virual machine. To do so, we can use a Python command to \"mount\" the Google Drive. This will pop up a screen asking you to give this Colab notebook access to your Google Drive. **If you have multiple Google accounts, please be sure to use the same one consistently throughout the course.**:"
      ],
      "metadata": {
        "id": "WjW0LWDSVHiz"
      }
    },
    {
      "cell_type": "code",
      "execution_count": null,
      "metadata": {
        "id": "5jd3m01_3UKH",
        "colab": {
          "base_uri": "https://localhost:8080/"
        },
        "outputId": "2b967068-d2a5-4efa-ffe6-f5d49f41b44d"
      },
      "outputs": [
        {
          "output_type": "stream",
          "name": "stdout",
          "text": [
            "Mounted at /content/drive\n"
          ]
        }
      ],
      "source": [
        "# Mount our personal google drive. This will pop up a\n",
        "# confirmation screen giving this notebook access to your Google drive.\n",
        "# You will first need a gmail account for this to work.\n",
        "from google.colab import drive\n",
        "drive.mount('/content/drive')"
      ]
    },
    {
      "cell_type": "markdown",
      "metadata": {
        "id": "O_iYzaRj3UKI"
      },
      "source": [
        "You should now see the contents of your Google drive by navigating to the folder icon in the left panel. It is viewable at `/content/drive/MyDrive`.\n",
        "\n",
        "To list the contents of a folder, you can use the `ls` command. This should list the contents of the root folder of your Google drive."
      ]
    },
    {
      "cell_type": "code",
      "execution_count": null,
      "metadata": {
        "id": "HTCUWR123UKI"
      },
      "outputs": [],
      "source": [
        "!ls /content/drive/MyDrive"
      ]
    },
    {
      "cell_type": "markdown",
      "metadata": {
        "id": "n8tFRcl73UKI"
      },
      "source": [
        "We'll look more at this in the lab this week."
      ]
    },
    {
      "cell_type": "markdown",
      "metadata": {
        "id": "z6lfSKRx3UKL"
      },
      "source": [
        "Let's go back to the slides and see a few more things about Python and why it's the best!"
      ]
    },
    {
      "cell_type": "markdown",
      "metadata": {
        "id": "5OLuF16p3UKL"
      },
      "source": [
        "# Getting Started in Python\n",
        "\n",
        "The best thing about Python is that for many things, it just works! There's a reason that I completely switched to python in about 2010, becuase it's great!\n",
        "\n",
        "Our goal for today (and your assignment) is to write a block of code that prints a sentence of your choosing. Then writing another block of code that prints it out four times."
      ]
    },
    {
      "cell_type": "code",
      "source": [
        "# For instance, if we want to print something to the screen, we just say print!\n",
        "\n",
        "print(\"Hello World\")"
      ],
      "metadata": {
        "id": "AVfU_ikN4P0i"
      },
      "execution_count": null,
      "outputs": []
    },
    {
      "cell_type": "code",
      "source": [
        "# If we want to do basic math, we just ask\n",
        "2+2"
      ],
      "metadata": {
        "id": "FLxUFvP04V3g"
      },
      "execution_count": null,
      "outputs": []
    },
    {
      "cell_type": "code",
      "source": [
        "2*7"
      ],
      "metadata": {
        "colab": {
          "base_uri": "https://localhost:8080/"
        },
        "id": "PSukNAmL4Yk3",
        "outputId": "63f6354c-f61f-4e9f-8941-157814c83eef"
      },
      "execution_count": null,
      "outputs": [
        {
          "output_type": "execute_result",
          "data": {
            "text/plain": [
              "14"
            ]
          },
          "metadata": {},
          "execution_count": 6
        }
      ]
    },
    {
      "cell_type": "code",
      "source": [
        "2**5"
      ],
      "metadata": {
        "colab": {
          "base_uri": "https://localhost:8080/"
        },
        "id": "SNbwl4vj4aGK",
        "outputId": "105d7a27-c84e-458d-e13c-73e48eb0b7aa"
      },
      "execution_count": null,
      "outputs": [
        {
          "output_type": "execute_result",
          "data": {
            "text/plain": [
              "32"
            ]
          },
          "metadata": {},
          "execution_count": 7
        }
      ]
    },
    {
      "cell_type": "code",
      "source": [
        "# We can also store values in memory, we call them variables\n",
        "\n",
        "this_is_my_variable = 12"
      ],
      "metadata": {
        "id": "Px72Hc8s40qb"
      },
      "execution_count": null,
      "outputs": []
    },
    {
      "cell_type": "code",
      "source": [
        "print(this_is_my_variable)"
      ],
      "metadata": {
        "colab": {
          "base_uri": "https://localhost:8080/"
        },
        "id": "3RpVBbVn40kl",
        "outputId": "0806627b-96ae-48ed-f46a-8771fa9cc6d9"
      },
      "execution_count": null,
      "outputs": [
        {
          "output_type": "stream",
          "name": "stdout",
          "text": [
            "12\n"
          ]
        }
      ]
    },
    {
      "cell_type": "code",
      "source": [
        "# Variables come in different styles, and we can also keep a list of them around.\n",
        "\n",
        "this_is_a_list = [1, 2, 3, 4, 5]"
      ],
      "metadata": {
        "id": "Ly52_MOw40er"
      },
      "execution_count": null,
      "outputs": []
    },
    {
      "cell_type": "code",
      "source": [
        "print(this_is_a_list)"
      ],
      "metadata": {
        "colab": {
          "base_uri": "https://localhost:8080/"
        },
        "id": "HQJ81SYD40TK",
        "outputId": "124d6e3d-f579-4974-a57b-9b5224a048b6"
      },
      "execution_count": null,
      "outputs": [
        {
          "output_type": "stream",
          "name": "stdout",
          "text": [
            "[1, 2, 3, 4, 5]\n"
          ]
        }
      ]
    },
    {
      "cell_type": "code",
      "source": [
        "# Lists allow us to group things together. Python also has a built in\n",
        "# list maker that can count for us!\n",
        "\n",
        "another_list = list(range(10))"
      ],
      "metadata": {
        "id": "2T4SuTfs5PfB"
      },
      "execution_count": null,
      "outputs": []
    },
    {
      "cell_type": "code",
      "source": [
        "print(another_list)"
      ],
      "metadata": {
        "colab": {
          "base_uri": "https://localhost:8080/"
        },
        "id": "bJwaU32B5Yfu",
        "outputId": "45eed106-3723-45f7-c3ef-4eb384054c86"
      },
      "execution_count": null,
      "outputs": [
        {
          "output_type": "stream",
          "name": "stdout",
          "text": [
            "[0, 1, 2, 3, 4, 5, 6, 7, 8, 9]\n"
          ]
        }
      ]
    },
    {
      "cell_type": "code",
      "source": [
        "# The most important think we'll see today is the for loop. It allows\n",
        "# us to jump and makes things Turing complete. The basic syntax is below\n",
        "\n",
        "for current_value in range(10):\n",
        "  print(\"This is a step\")"
      ],
      "metadata": {
        "colab": {
          "base_uri": "https://localhost:8080/"
        },
        "id": "Nmqbzy4n5frO",
        "outputId": "3635f0d1-2566-4911-c697-2477c48e388e"
      },
      "execution_count": null,
      "outputs": [
        {
          "output_type": "stream",
          "name": "stdout",
          "text": [
            "This is a step\n",
            "This is a step\n",
            "This is a step\n",
            "This is a step\n",
            "This is a step\n",
            "This is a step\n",
            "This is a step\n",
            "This is a step\n",
            "This is a step\n",
            "This is a step\n"
          ]
        }
      ]
    },
    {
      "cell_type": "code",
      "source": [
        "# Now, you try\n",
        "\n",
        "# Put a line of code here to print out a string of your choosing\n",
        "for current_value in range(5):\n",
        "  print(\"I'm learning code\")"
      ],
      "metadata": {
        "id": "sxF6tOCc5pJf",
        "outputId": "a5efa9ab-0f2d-4003-fdad-336d7e8687a2",
        "colab": {
          "base_uri": "https://localhost:8080/"
        }
      },
      "execution_count": 18,
      "outputs": [
        {
          "output_type": "stream",
          "name": "stdout",
          "text": [
            "I'm learning code\n",
            "I'm learning code\n",
            "I'm learning code\n",
            "I'm learning code\n",
            "I'm learning code\n"
          ]
        }
      ]
    },
    {
      "cell_type": "code",
      "source": [
        "# Now, below here, try writing a loop that goes 4 times.\n",
        "for current_value in range(4):\n",
        "  print(\"This is a loop\")"
      ],
      "metadata": {
        "id": "O8PkDSun5voG",
        "outputId": "73b1fe1a-7124-4b24-8f4b-50ca70aaf63f",
        "colab": {
          "base_uri": "https://localhost:8080/"
        }
      },
      "execution_count": 19,
      "outputs": [
        {
          "output_type": "stream",
          "name": "stdout",
          "text": [
            "This is a loop\n",
            "This is a loop\n",
            "This is a loop\n",
            "This is a loop\n"
          ]
        }
      ]
    }
  ],
  "metadata": {
    "kernelspec": {
      "display_name": "Python 3",
      "language": "python",
      "name": "python3"
    },
    "language_info": {
      "codemirror_mode": {
        "name": "ipython",
        "version": 3
      },
      "file_extension": ".py",
      "mimetype": "text/x-python",
      "name": "python",
      "nbconvert_exporter": "python",
      "pygments_lexer": "ipython3",
      "version": "3.8.3"
    },
    "vscode": {
      "interpreter": {
        "hash": "aee8b7b246df8f9039afb4144a1f6fd8d2ca17a180786b69acc140d282b71a49"
      }
    },
    "colab": {
      "provenance": []
    }
  },
  "nbformat": 4,
  "nbformat_minor": 0
}